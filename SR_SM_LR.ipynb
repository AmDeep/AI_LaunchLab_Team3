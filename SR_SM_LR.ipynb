{
  "nbformat": 4,
  "nbformat_minor": 0,
  "metadata": {
    "colab": {
      "name": "SR_SM_LR.ipynb",
      "provenance": [],
      "collapsed_sections": [],
      "authorship_tag": "ABX9TyNnOMgCxftzya3aA8ESnkbr",
      "include_colab_link": true
    },
    "kernelspec": {
      "name": "python3",
      "display_name": "Python 3"
    }
  },
  "cells": [
    {
      "cell_type": "markdown",
      "metadata": {
        "id": "view-in-github",
        "colab_type": "text"
      },
      "source": [
        "<a href=\"https://colab.research.google.com/github/AmDeep/AI_LaunchLab_Team3/blob/main/SR_SM_LR.ipynb\" target=\"_parent\"><img src=\"https://colab.research.google.com/assets/colab-badge.svg\" alt=\"Open In Colab\"/></a>"
      ]
    },
    {
      "cell_type": "code",
      "metadata": {
        "colab": {
          "base_uri": "https://localhost:8080/"
        },
        "id": "G_oPI-9mc2P3",
        "outputId": "d434b8ba-eeb7-4d22-ac21-e0f8bbc525f6"
      },
      "source": [
        "!pip install netcdf4"
      ],
      "execution_count": 49,
      "outputs": [
        {
          "output_type": "stream",
          "text": [
            "Requirement already satisfied: netcdf4 in /usr/local/lib/python3.6/dist-packages (1.5.5.1)\n",
            "Requirement already satisfied: numpy>=1.9 in /usr/local/lib/python3.6/dist-packages (from netcdf4) (1.19.5)\n",
            "Requirement already satisfied: cftime in /usr/local/lib/python3.6/dist-packages (from netcdf4) (1.3.1)\n"
          ],
          "name": "stdout"
        }
      ]
    },
    {
      "cell_type": "code",
      "metadata": {
        "colab": {
          "base_uri": "https://localhost:8080/"
        },
        "id": "twD2-F87c8cE",
        "outputId": "7f38c494-a593-4b29-b289-e94ee2ad5415"
      },
      "source": [
        "from google.colab import drive\r\n",
        "drive.mount('/content/drive')"
      ],
      "execution_count": 50,
      "outputs": [
        {
          "output_type": "stream",
          "text": [
            "Drive already mounted at /content/drive; to attempt to forcibly remount, call drive.mount(\"/content/drive\", force_remount=True).\n"
          ],
          "name": "stdout"
        }
      ]
    },
    {
      "cell_type": "code",
      "metadata": {
        "colab": {
          "base_uri": "https://localhost:8080/"
        },
        "id": "gJMNm55idY_E",
        "outputId": "0a02b6bb-2573-41f0-8561-337d02cabb53"
      },
      "source": [
        "!ls drive/MyDrive/Colab\\ Notebooks/Climate/Data/SR"
      ],
      "execution_count": 3,
      "outputs": [
        {
          "output_type": "stream",
          "text": [
            "cropped_x.pt  output_file_baseline.nc  super_resolution_sample.nc\n",
            "cropped_y.pt  super_resolution.nc\n"
          ],
          "name": "stdout"
        }
      ]
    },
    {
      "cell_type": "code",
      "metadata": {
        "id": "114OKVUlfuT0"
      },
      "source": [
        "DATA_LOC = 'drive/MyDrive/Colab Notebooks/Climate/Data/SR'"
      ],
      "execution_count": 51,
      "outputs": []
    },
    {
      "cell_type": "code",
      "metadata": {
        "id": "hJTi10N3gRXC"
      },
      "source": [
        "import xarray as xa\r\n",
        "\r\n",
        "INPUT_FILE = DATA_LOC + '/' + 'super_resolution_sample.nc'"
      ],
      "execution_count": 52,
      "outputs": []
    },
    {
      "cell_type": "code",
      "metadata": {
        "id": "JG0uV2JQgXGS"
      },
      "source": [
        "sample_x = xa.open_dataset(INPUT_FILE, group='/train/x')"
      ],
      "execution_count": 53,
      "outputs": []
    },
    {
      "cell_type": "code",
      "metadata": {
        "id": "jB7I_cvPvZwD"
      },
      "source": [
        "df = sample_x.to_dataframe()"
      ],
      "execution_count": 54,
      "outputs": []
    },
    {
      "cell_type": "code",
      "metadata": {
        "colab": {
          "base_uri": "https://localhost:8080/"
        },
        "id": "pVvrIzTnvkV6",
        "outputId": "ee29b53e-4ca0-446e-9e69-7c74dc958db0"
      },
      "source": [
        "df.columns"
      ],
      "execution_count": 55,
      "outputs": [
        {
          "output_type": "execute_result",
          "data": {
            "text/plain": [
              "Index(['mg_delta', 'me_delta', 'zp_delta', 'vg_delta', 'td', 'tt', 'pn', 'nt',\n",
              "       'h', 'rt', 'i4', '5p', 'i6', 'uu', 'vv'],\n",
              "      dtype='object')"
            ]
          },
          "metadata": {
            "tags": []
          },
          "execution_count": 55
        }
      ]
    },
    {
      "cell_type": "code",
      "metadata": {
        "id": "kCyE2RZ8vzJ1"
      },
      "source": [
        "sample_y = xa.open_dataset(INPUT_FILE, group='/train/y')"
      ],
      "execution_count": 56,
      "outputs": []
    },
    {
      "cell_type": "code",
      "metadata": {
        "id": "Gs7AhEf1zt7e"
      },
      "source": [
        "df_y = sample_y.to_dataframe()"
      ],
      "execution_count": 57,
      "outputs": []
    },
    {
      "cell_type": "code",
      "metadata": {
        "colab": {
          "base_uri": "https://localhost:8080/"
        },
        "id": "qhMj7ecozys1",
        "outputId": "eafb6863-c562-45b9-bcd4-015b43f3406a"
      },
      "source": [
        "df.shape"
      ],
      "execution_count": 58,
      "outputs": [
        {
          "output_type": "execute_result",
          "data": {
            "text/plain": [
              "(1310720, 15)"
            ]
          },
          "metadata": {
            "tags": []
          },
          "execution_count": 58
        }
      ]
    },
    {
      "cell_type": "code",
      "metadata": {
        "colab": {
          "base_uri": "https://localhost:8080/"
        },
        "id": "dvc0ROWTz0y1",
        "outputId": "d677cca3-96a9-43c9-ce1d-44e566be183e"
      },
      "source": [
        "df_y.columns"
      ],
      "execution_count": 59,
      "outputs": [
        {
          "output_type": "execute_result",
          "data": {
            "text/plain": [
              "Index(['tt'], dtype='object')"
            ]
          },
          "metadata": {
            "tags": []
          },
          "execution_count": 59
        }
      ]
    },
    {
      "cell_type": "code",
      "metadata": {
        "colab": {
          "base_uri": "https://localhost:8080/",
          "height": 335
        },
        "id": "D1p94_bG0_aK",
        "outputId": "1080156c-b6d5-4078-863d-3c4c507aef2e"
      },
      "source": [
        "df.head()"
      ],
      "execution_count": 60,
      "outputs": [
        {
          "output_type": "execute_result",
          "data": {
            "text/html": [
              "<div>\n",
              "<style scoped>\n",
              "    .dataframe tbody tr th:only-of-type {\n",
              "        vertical-align: middle;\n",
              "    }\n",
              "\n",
              "    .dataframe tbody tr th {\n",
              "        vertical-align: top;\n",
              "    }\n",
              "\n",
              "    .dataframe thead th {\n",
              "        text-align: right;\n",
              "    }\n",
              "</style>\n",
              "<table border=\"1\" class=\"dataframe\">\n",
              "  <thead>\n",
              "    <tr style=\"text-align: right;\">\n",
              "      <th></th>\n",
              "      <th></th>\n",
              "      <th></th>\n",
              "      <th>mg_delta</th>\n",
              "      <th>me_delta</th>\n",
              "      <th>zp_delta</th>\n",
              "      <th>vg_delta</th>\n",
              "      <th>td</th>\n",
              "      <th>tt</th>\n",
              "      <th>pn</th>\n",
              "      <th>nt</th>\n",
              "      <th>h</th>\n",
              "      <th>rt</th>\n",
              "      <th>i4</th>\n",
              "      <th>5p</th>\n",
              "      <th>i6</th>\n",
              "      <th>uu</th>\n",
              "      <th>vv</th>\n",
              "    </tr>\n",
              "    <tr>\n",
              "      <th>time</th>\n",
              "      <th>x</th>\n",
              "      <th>y</th>\n",
              "      <th></th>\n",
              "      <th></th>\n",
              "      <th></th>\n",
              "      <th></th>\n",
              "      <th></th>\n",
              "      <th></th>\n",
              "      <th></th>\n",
              "      <th></th>\n",
              "      <th></th>\n",
              "      <th></th>\n",
              "      <th></th>\n",
              "      <th></th>\n",
              "      <th></th>\n",
              "      <th></th>\n",
              "      <th></th>\n",
              "    </tr>\n",
              "  </thead>\n",
              "  <tbody>\n",
              "    <tr>\n",
              "      <th rowspan=\"5\" valign=\"top\">2016-10-01</th>\n",
              "      <th rowspan=\"5\" valign=\"top\">0</th>\n",
              "      <th>0</th>\n",
              "      <td>5.995204e-14</td>\n",
              "      <td>-73.769531</td>\n",
              "      <td>1.595800</td>\n",
              "      <td>-3.000000e+00</td>\n",
              "      <td>1.877701</td>\n",
              "      <td>10.292023</td>\n",
              "      <td>1009.307739</td>\n",
              "      <td>0.105957</td>\n",
              "      <td>1500.394775</td>\n",
              "      <td>8.195639e-08</td>\n",
              "      <td>0.0</td>\n",
              "      <td>0.0</td>\n",
              "      <td>0.800054</td>\n",
              "      <td>1.102224</td>\n",
              "      <td>1.666101</td>\n",
              "    </tr>\n",
              "    <tr>\n",
              "      <th>1</th>\n",
              "      <td>5.995204e-14</td>\n",
              "      <td>-22.457031</td>\n",
              "      <td>1.529394</td>\n",
              "      <td>2.398082e-12</td>\n",
              "      <td>1.877701</td>\n",
              "      <td>10.292023</td>\n",
              "      <td>1009.307739</td>\n",
              "      <td>0.105957</td>\n",
              "      <td>1500.394775</td>\n",
              "      <td>8.195639e-08</td>\n",
              "      <td>0.0</td>\n",
              "      <td>0.0</td>\n",
              "      <td>0.800054</td>\n",
              "      <td>1.102224</td>\n",
              "      <td>1.666101</td>\n",
              "    </tr>\n",
              "    <tr>\n",
              "      <th>2</th>\n",
              "      <td>5.995204e-14</td>\n",
              "      <td>1.855469</td>\n",
              "      <td>1.509130</td>\n",
              "      <td>2.398082e-12</td>\n",
              "      <td>1.877701</td>\n",
              "      <td>10.292023</td>\n",
              "      <td>1009.307739</td>\n",
              "      <td>0.105957</td>\n",
              "      <td>1500.394775</td>\n",
              "      <td>8.195639e-08</td>\n",
              "      <td>0.0</td>\n",
              "      <td>0.0</td>\n",
              "      <td>0.800054</td>\n",
              "      <td>1.102224</td>\n",
              "      <td>1.666101</td>\n",
              "    </tr>\n",
              "    <tr>\n",
              "      <th>3</th>\n",
              "      <td>5.995204e-14</td>\n",
              "      <td>-71.894531</td>\n",
              "      <td>1.880713</td>\n",
              "      <td>2.398082e-12</td>\n",
              "      <td>-0.153549</td>\n",
              "      <td>12.098663</td>\n",
              "      <td>1009.385864</td>\n",
              "      <td>0.371582</td>\n",
              "      <td>1500.394775</td>\n",
              "      <td>0.000000e+00</td>\n",
              "      <td>0.0</td>\n",
              "      <td>0.0</td>\n",
              "      <td>0.800054</td>\n",
              "      <td>-0.372873</td>\n",
              "      <td>1.744226</td>\n",
              "    </tr>\n",
              "    <tr>\n",
              "      <th>4</th>\n",
              "      <td>5.995204e-14</td>\n",
              "      <td>-104.457031</td>\n",
              "      <td>1.938818</td>\n",
              "      <td>2.398082e-12</td>\n",
              "      <td>-0.153549</td>\n",
              "      <td>12.098663</td>\n",
              "      <td>1009.385864</td>\n",
              "      <td>0.371582</td>\n",
              "      <td>1500.394775</td>\n",
              "      <td>0.000000e+00</td>\n",
              "      <td>0.0</td>\n",
              "      <td>0.0</td>\n",
              "      <td>0.800054</td>\n",
              "      <td>-0.372873</td>\n",
              "      <td>1.744226</td>\n",
              "    </tr>\n",
              "  </tbody>\n",
              "</table>\n",
              "</div>"
            ],
            "text/plain": [
              "                    mg_delta    me_delta  ...        uu        vv\n",
              "time       x y                            ...                    \n",
              "2016-10-01 0 0  5.995204e-14  -73.769531  ...  1.102224  1.666101\n",
              "             1  5.995204e-14  -22.457031  ...  1.102224  1.666101\n",
              "             2  5.995204e-14    1.855469  ...  1.102224  1.666101\n",
              "             3  5.995204e-14  -71.894531  ... -0.372873  1.744226\n",
              "             4  5.995204e-14 -104.457031  ... -0.372873  1.744226\n",
              "\n",
              "[5 rows x 15 columns]"
            ]
          },
          "metadata": {
            "tags": []
          },
          "execution_count": 60
        }
      ]
    },
    {
      "cell_type": "code",
      "metadata": {
        "colab": {
          "base_uri": "https://localhost:8080/",
          "height": 646
        },
        "id": "Z8M7cuskUndX",
        "outputId": "1e0967e5-9249-4444-fd9e-e440035ce00b"
      },
      "source": [
        "import seaborn as sns\r\n",
        "import matplotlib.pyplot as plt\r\n",
        "\r\n",
        "corrmat = df.corr()\r\n",
        "plt.subplots(figsize=(20, 10))\r\n",
        "sns.heatmap(corrmat, vmax=.9, square=True)"
      ],
      "execution_count": 80,
      "outputs": [
        {
          "output_type": "execute_result",
          "data": {
            "text/plain": [
              "<matplotlib.axes._subplots.AxesSubplot at 0x7fb3084860b8>"
            ]
          },
          "metadata": {
            "tags": []
          },
          "execution_count": 80
        },
        {
          "output_type": "display_data",
          "data": {
            "image/png": "[encoded data removed]",
            "text/plain": [
              "<Figure size 1440x720 with 2 Axes>"
            ]
          },
          "metadata": {
            "tags": [],
            "needs_background": "light"
          }
        }
      ]
    },
    {
      "cell_type": "code",
      "metadata": {
        "id": "c_xnqg-M1RJZ"
      },
      "source": [
        "from sklearn.model_selection import train_test_split\r\n",
        "\r\n",
        "#Without standardscaler RMSE values were slightly worse but feature importances didn't align with what was expected\r\n",
        "#X_train, X_test, y_train, y_test = train_test_split(df, df_y, test_size=0.20)"
      ],
      "execution_count": 61,
      "outputs": []
    },
    {
      "cell_type": "code",
      "metadata": {
        "id": "YBUF2GJX1fgc"
      },
      "source": [
        "from sklearn.preprocessing import StandardScaler\r\n",
        "\r\n",
        "sdf = StandardScaler().fit_transform(df)"
      ],
      "execution_count": 62,
      "outputs": []
    },
    {
      "cell_type": "code",
      "metadata": {
        "id": "3Moup_fw182r"
      },
      "source": [
        "import pandas as pd\r\n",
        "\r\n",
        "ssdf=pd.DataFrame(sdf,columns=df.columns)"
      ],
      "execution_count": 64,
      "outputs": []
    },
    {
      "cell_type": "code",
      "metadata": {
        "id": "UcTXbT9X1_aC"
      },
      "source": [
        "from sklearn import linear_model\r\n",
        "\r\n",
        "X_train_s, X_test_s, y_train_s, y_test_s = train_test_split(ssdf, df_y, test_size=0.20)\r\n",
        "lm = linear_model.LinearRegression()\r\n",
        "model = lm.fit(X_train_s,y_train_s)"
      ],
      "execution_count": 69,
      "outputs": []
    },
    {
      "cell_type": "code",
      "metadata": {
        "id": "WPREyZ7m3ws5"
      },
      "source": [
        "predictions = lm.predict(X_test_s)"
      ],
      "execution_count": 70,
      "outputs": []
    },
    {
      "cell_type": "code",
      "metadata": {
        "colab": {
          "base_uri": "https://localhost:8080/"
        },
        "id": "3hYpDmep3z0d",
        "outputId": "26f9b3f4-ffef-4f54-b708-0e08b8b1f8b2"
      },
      "source": [
        "lm.score(X_test_s,y_test_s)"
      ],
      "execution_count": 71,
      "outputs": [
        {
          "output_type": "execute_result",
          "data": {
            "text/plain": [
              "0.8445830393127643"
            ]
          },
          "metadata": {
            "tags": []
          },
          "execution_count": 71
        }
      ]
    },
    {
      "cell_type": "code",
      "metadata": {
        "id": "UsmkElED75-e"
      },
      "source": [
        "from sklearn.metrics import mean_squared_error\r\n",
        "\r\n",
        "rms = mean_squared_error(y_test_s, predictions, squared=False)"
      ],
      "execution_count": 72,
      "outputs": []
    },
    {
      "cell_type": "code",
      "metadata": {
        "colab": {
          "base_uri": "https://localhost:8080/"
        },
        "id": "8zAiRh4R8TX3",
        "outputId": "8a9d0447-bea3-4d2f-ce16-8b99c8a503bc"
      },
      "source": [
        "rms"
      ],
      "execution_count": 73,
      "outputs": [
        {
          "output_type": "execute_result",
          "data": {
            "text/plain": [
              "1.7821016"
            ]
          },
          "metadata": {
            "tags": []
          },
          "execution_count": 73
        }
      ]
    },
    {
      "cell_type": "code",
      "metadata": {
        "colab": {
          "base_uri": "https://localhost:8080/",
          "height": 569
        },
        "id": "5vhtZJim32j7",
        "outputId": "d38afe94-7397-44c2-c2dd-6e51acd0abe2"
      },
      "source": [
        "from matplotlib import pyplot as plt\r\n",
        "\r\n",
        "importance = lm.coef_[0]\r\n",
        "\r\n",
        "# plot feature importance\r\n",
        "fig, ax = plt.subplots(figsize =(16, 9)) \r\n",
        "  \r\n",
        "# Horizontal Bar Plot \r\n",
        "ax.barh([x for x in df.columns], importance)\r\n",
        "  \r\n",
        "# Remove axes splines \r\n",
        "for s in ['top', 'bottom', 'left', 'right']: \r\n",
        "    ax.spines[s].set_visible(False) \r\n",
        "  \r\n",
        "# Remove x, y Ticks \r\n",
        "ax.xaxis.set_ticks_position('none') \r\n",
        "ax.yaxis.set_ticks_position('none') \r\n",
        "  \r\n",
        "# Add padding between axes and labels \r\n",
        "ax.xaxis.set_tick_params(pad = 5) \r\n",
        "ax.yaxis.set_tick_params(pad = 10) \r\n",
        "  \r\n",
        "# Add x, y gridlines \r\n",
        "ax.grid(b = True, color ='grey', \r\n",
        "        linestyle ='-.', linewidth = 0.5, \r\n",
        "        alpha = 0.2) \r\n",
        "  \r\n",
        "# Show top values  \r\n",
        "ax.invert_yaxis() \r\n",
        "  \r\n",
        "# Add annotation to bars \r\n",
        "for i in ax.patches: \r\n",
        "    plt.text(i.get_width()+0.2, i.get_y()+0.5,  \r\n",
        "             str(round((i.get_width()), 2)), \r\n",
        "             fontsize = 10, fontweight ='bold', \r\n",
        "             color ='grey') \r\n",
        "  \r\n",
        "# Add Plot Title \r\n",
        "ax.set_title('Feature importance - Linear regression model', \r\n",
        "             loc ='left', ) \r\n",
        "  \r\n",
        "# Add Text watermark \r\n",
        "fig.text(0.9, 0.15, 'Climate Hack 2021 - Team Super Gan', fontsize = 12, \r\n",
        "         color ='grey', ha ='right', va ='bottom', \r\n",
        "         alpha = 0.7) \r\n",
        "\r\n",
        "plt.xlabel('Importance')\r\n",
        "plt.ylabel('Features')\r\n",
        "\r\n",
        "# Show Plot \r\n",
        "plt.show() "
      ],
      "execution_count": 79,
      "outputs": [
        {
          "output_type": "display_data",
          "data": {
            "image/png": "[encoded data removed]",
            "text/plain": [
              "<Figure size 1152x648 with 1 Axes>"
            ]
          },
          "metadata": {
            "tags": [],
            "needs_background": "light"
          }
        }
      ]
    },
    {
      "cell_type": "code",
      "metadata": {
        "colab": {
          "base_uri": "https://localhost:8080/"
        },
        "id": "eXte0euB9Evn",
        "outputId": "5f60ac4c-4a66-4dde-dda5-1f9909e87340"
      },
      "source": [
        "from sklearn.linear_model import ElasticNetCV\r\n",
        "\r\n",
        "regr = ElasticNetCV(cv=5, random_state=0)\r\n",
        "regr.fit(X_train_s, y_train_s)"
      ],
      "execution_count": 75,
      "outputs": [
        {
          "output_type": "stream",
          "text": [
            "/usr/local/lib/python3.6/dist-packages/sklearn/linear_model/_coordinate_descent.py:1088: DataConversionWarning: A column-vector y was passed when a 1d array was expected. Please change the shape of y to (n_samples, ), for example using ravel().\n",
            "  y = column_or_1d(y, warn=True)\n"
          ],
          "name": "stderr"
        },
        {
          "output_type": "execute_result",
          "data": {
            "text/plain": [
              "ElasticNetCV(alphas=None, copy_X=True, cv=5, eps=0.001, fit_intercept=True,\n",
              "             l1_ratio=0.5, max_iter=1000, n_alphas=100, n_jobs=None,\n",
              "             normalize=False, positive=False, precompute='auto', random_state=0,\n",
              "             selection='cyclic', tol=0.0001, verbose=0)"
            ]
          },
          "metadata": {
            "tags": []
          },
          "execution_count": 75
        }
      ]
    },
    {
      "cell_type": "code",
      "metadata": {
        "colab": {
          "base_uri": "https://localhost:8080/"
        },
        "id": "k2h_o6PJ9k7e",
        "outputId": "a04d0c6c-3d12-4697-ae56-6afe2e0ea455"
      },
      "source": [
        "regr.alpha_"
      ],
      "execution_count": 43,
      "outputs": [
        {
          "output_type": "execute_result",
          "data": {
            "text/plain": [
              "1.1120848388671876"
            ]
          },
          "metadata": {
            "tags": []
          },
          "execution_count": 43
        }
      ]
    },
    {
      "cell_type": "code",
      "metadata": {
        "colab": {
          "base_uri": "https://localhost:8080/"
        },
        "id": "U7SZ6ndd9ogS",
        "outputId": "096eb9b6-0da5-4e7e-bfc9-6fbca364dba2"
      },
      "source": [
        "regr.intercept_"
      ],
      "execution_count": 44,
      "outputs": [
        {
          "output_type": "execute_result",
          "data": {
            "text/plain": [
              "1.3956766"
            ]
          },
          "metadata": {
            "tags": []
          },
          "execution_count": 44
        }
      ]
    },
    {
      "cell_type": "code",
      "metadata": {
        "id": "p28AVMKp9PTY"
      },
      "source": [
        "y_pred_en_s = regr.predict(X_test_s)\r\n",
        "rms_en_s = mean_squared_error(y_test_s, y_pred_en_s, squared=False)"
      ],
      "execution_count": 77,
      "outputs": []
    },
    {
      "cell_type": "code",
      "metadata": {
        "colab": {
          "base_uri": "https://localhost:8080/"
        },
        "id": "W47b9l589zLD",
        "outputId": "65b36b8e-1c96-41e8-a4c5-b66256497d33"
      },
      "source": [
        "rms_en_s"
      ],
      "execution_count": 78,
      "outputs": [
        {
          "output_type": "execute_result",
          "data": {
            "text/plain": [
              "1.7823838"
            ]
          },
          "metadata": {
            "tags": []
          },
          "execution_count": 78
        }
      ]
    }
  ]
}